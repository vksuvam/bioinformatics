{
  "nbformat": 4,
  "nbformat_minor": 0,
  "metadata": {
    "colab": {
      "provenance": []
    },
    "kernelspec": {
      "name": "python3",
      "display_name": "Python 3"
    },
    "language_info": {
      "name": "python"
    }
  },
  "cells": [
    {
      "cell_type": "code",
      "source": [
        "# Import libraries\n",
        "import re"
      ],
      "metadata": {
        "id": "1C8Pz65cg_dm"
      },
      "execution_count": 6,
      "outputs": []
    },
    {
      "cell_type": "code",
      "source": [
        "# Function to find motifs in a DNA sequence\n",
        "def find_motifs(sequence, motif):\n",
        "    matches = re.finditer(motif, sequence)\n",
        "    positions = [match.start() for match in matches]\n",
        "    return positions"
      ],
      "metadata": {
        "id": "dJQWIA8Yg_oa"
      },
      "execution_count": 7,
      "outputs": []
    },
    {
      "cell_type": "code",
      "source": [
        "# Function to calculate GC content in a DNA sequence\n",
        "def calculate_gc_content(sequence):\n",
        "    gc_count = sequence.count('G') + sequence.count('C')\n",
        "    total_bases = len(sequence)\n",
        "    gc_content = (gc_count / total_bases) * 100\n",
        "    return gc_content"
      ],
      "metadata": {
        "id": "8slKyY8jg_rz"
      },
      "execution_count": 8,
      "outputs": []
    },
    {
      "cell_type": "code",
      "source": [
        "# Function to identify coding regions (example: start codon 'ATG' and stop codon 'TAA')\n",
        "def identify_coding_regions(sequence):\n",
        "    start_codon = 'ATG'\n",
        "    stop_codon = 'TAA'\n",
        "    coding_regions = []\n",
        "    start_positions = find_motifs(sequence, start_codon)\n",
        "    stop_positions = find_motifs(sequence, stop_codon)\n",
        "\n",
        "    for start in start_positions:\n",
        "        for stop in stop_positions:\n",
        "            if stop > start and (stop - start) % 3 == 0:\n",
        "                coding_regions.append((start, stop + 2))\n",
        "\n",
        "    return coding_regions"
      ],
      "metadata": {
        "id": "Ihj_5ThCg_vy"
      },
      "execution_count": 9,
      "outputs": []
    },
    {
      "cell_type": "code",
      "source": [
        "# Main sequence analysis\n",
        "if __name__ == \"__main__\":\n",
        "    # Example DNA sequence (replace with your own sequence)\n",
        "    dna_sequence = \"ATGGCCTAAATGGGCTAA\"\n",
        "\n",
        "    # Find motifs\n",
        "    motif_to_find = \"ATG\"\n",
        "    motifs_found = find_motifs(dna_sequence, motif_to_find)\n",
        "    print(f\"Motifs found: {motifs_found}\")\n",
        "\n",
        "    # Calculate GC content\n",
        "    gc_content = calculate_gc_content(dna_sequence)\n",
        "    print(f\"GC content: {gc_content}%\")\n",
        "\n",
        "    # Identify coding regions\n",
        "    coding_regions = identify_coding_regions(dna_sequence)\n",
        "    print(f\"Coding regions: {coding_regions}\")\n"
      ],
      "metadata": {
        "colab": {
          "base_uri": "https://localhost:8080/"
        },
        "id": "3ywAcS9-g_yd",
        "outputId": "807003e2-fd29-4d34-afd6-28cd6301b083"
      },
      "execution_count": 10,
      "outputs": [
        {
          "output_type": "stream",
          "name": "stdout",
          "text": [
            "Motifs found: [0, 9]\n",
            "GC content: 44.44444444444444%\n",
            "Coding regions: [(0, 8), (0, 17), (9, 17)]\n"
          ]
        }
      ]
    },
    {
      "cell_type": "code",
      "source": [],
      "metadata": {
        "id": "OKHmla8jhM1r"
      },
      "execution_count": null,
      "outputs": []
    }
  ]
}